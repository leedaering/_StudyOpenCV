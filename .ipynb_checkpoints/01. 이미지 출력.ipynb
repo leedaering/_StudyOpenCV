{
 "cells": [
  {
   "cell_type": "markdown",
   "id": "60f81b34",
   "metadata": {},
   "source": [
    "# Environment Setup\n",
    "\n",
    "    pip install opencv-python on anaconda prompt terminal"
   ]
  },
  {
   "cell_type": "code",
   "execution_count": 1,
   "id": "a801022a",
   "metadata": {},
   "outputs": [
    {
     "data": {
      "text/plain": [
       "'4.6.0'"
      ]
     },
     "execution_count": 1,
     "metadata": {},
     "output_type": "execute_result"
    }
   ],
   "source": [
    "import cv2\n",
    "cv2.__version__"
   ]
  },
  {
   "cell_type": "markdown",
   "id": "44de0187",
   "metadata": {},
   "source": [
    "# OpenCV (Computer Vision)\n",
    "Open source libarary used for image processing "
   ]
  },
  {
   "cell_type": "markdown",
   "id": "b67a3253",
   "metadata": {},
   "source": [
    "# 1. 이미지 출력"
   ]
  },
  {
   "cell_type": "code",
   "execution_count": 10,
   "id": "23ec2c51",
   "metadata": {},
   "outputs": [],
   "source": [
    "import cv2\n",
    "img=cv2.imread('cat_img.jpg')\n",
    "cv2.imshow('img',img) # (Window title, image file name)\n",
    "cv2.waitKey(0) # 지정된 시간(ms)동안 사용자 키 입력 대기\n",
    "cv2.destroyAllWindows()"
   ]
  },
  {
   "cell_type": "markdown",
   "id": "40dc0be0",
   "metadata": {},
   "source": [
    "## 읽기 옵션\n",
    "1. cv2.IMREAD_COLOR : color imamge, 투명 영역 무시\n",
    "2. cv2.IMREAD_GRAYSCALE : 흑백 이미지\n",
    "3. cv2.IMREAD_UNCHANGED : 투명 영역까지 포함"
   ]
  },
  {
   "cell_type": "code",
   "execution_count": 1,
   "id": "99704048",
   "metadata": {},
   "outputs": [],
   "source": [
    "import cv2\n",
    "img_color=cv2.imread('cat_img.jpg',cv2.IMREAD_COLOR)\n",
    "img_gray=cv2.imread('cat_img.jpg',cv2.IMREAD_GRAYSCALE)\n",
    "img_unchanged=cv2.imread('cat_img.jpg',cv2.IMREAD_UNCHANGED)\n",
    "\n",
    "cv2.imshow('color',img_color)\n",
    "cv2.imshow('gray',img_gray)\n",
    "cv2.imshow('unchagned',img_unchanged)\n",
    "\n",
    "cv2.waitKey(0)\n",
    "cv2.destroyAllWindows()"
   ]
  },
  {
   "cell_type": "markdown",
   "id": "0943f7b9",
   "metadata": {},
   "source": [
    "## Shape : 이미지의 height, width, channel"
   ]
  },
  {
   "cell_type": "code",
   "execution_count": 4,
   "id": "0cfecbbf",
   "metadata": {},
   "outputs": [
    {
     "data": {
      "text/plain": [
       "(391, 640, 3)"
      ]
     },
     "execution_count": 4,
     "metadata": {},
     "output_type": "execute_result"
    }
   ],
   "source": [
    "import cv2\n",
    "img=cv2.imread('cat_img.jpg')\n",
    "img.shape # (세로,가로,채널)"
   ]
  },
  {
   "cell_type": "code",
   "execution_count": null,
   "id": "c796f19b",
   "metadata": {},
   "outputs": [],
   "source": []
  }
 ],
 "metadata": {
  "kernelspec": {
   "display_name": "Python 3",
   "language": "python",
   "name": "python3"
  },
  "language_info": {
   "codemirror_mode": {
    "name": "ipython",
    "version": 3
   },
   "file_extension": ".py",
   "mimetype": "text/x-python",
   "name": "python",
   "nbconvert_exporter": "python",
   "pygments_lexer": "ipython3",
   "version": "3.8.8"
  }
 },
 "nbformat": 4,
 "nbformat_minor": 5
}
