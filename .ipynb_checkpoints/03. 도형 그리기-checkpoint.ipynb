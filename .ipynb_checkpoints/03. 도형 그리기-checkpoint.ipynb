{
 "cells": [
  {
   "cell_type": "markdown",
   "id": "7b9079db",
   "metadata": {},
   "source": [
    "## 3. 도형 그리기"
   ]
  },
  {
   "cell_type": "markdown",
   "id": "95eddcea",
   "metadata": {},
   "source": [
    "## 빈 스케치북 만들기"
   ]
  },
  {
   "cell_type": "code",
   "execution_count": 4,
   "id": "bac62dca",
   "metadata": {},
   "outputs": [],
   "source": [
    "import cv2\n",
    "import numpy as np\n",
    "\n",
    "# 세로 480 가로 640 채널 3에 해당하는 스케치북 만들기\n",
    "\n",
    "img=np.zeros((480,640,3),dtype=np.uint8)\n",
    "#img[:]=[255,255,255] # 전체 공간을 흰 색으로 채우기\n",
    "cv2.imshow('img',img)\n",
    "cv2.waitKey(0)\n",
    "cv2.destroyAllWindows()"
   ]
  },
  {
   "cell_type": "markdown",
   "id": "ed3a3cd5",
   "metadata": {},
   "source": [
    "## 일부 영역 색칠"
   ]
  },
  {
   "cell_type": "code",
   "execution_count": 5,
   "id": "9dfcd32e",
   "metadata": {},
   "outputs": [],
   "source": [
    "import cv2\n",
    "import numpy as np\n",
    "\n",
    "img=np.zeros((480,640,3),dtype=np.uint8)\n",
    "img[100:200,200:300]=(255,255,255)\n",
    "\n",
    "cv2.imshow('img',img)\n",
    "cv2.waitKey(0)\n",
    "cv2.destroyAllWindows()"
   ]
  },
  {
   "cell_type": "markdown",
   "id": "5e126c79",
   "metadata": {},
   "source": [
    "## 직선\n",
    "직선의 종류 :\n",
    "1. cv2.LINE_4 : 상하좌우 4 방향으로 연결된 선\n",
    "2. cv2.LINE_8 : 대각선을 포함한 8방향으로 연결된 선 (기본 값)\n",
    "3. cv2.LINE_AA : 부드러운 선 (Anti-aliasing) "
   ]
  },
  {
   "cell_type": "code",
   "execution_count": 9,
   "id": "4c647e2c",
   "metadata": {},
   "outputs": [],
   "source": [
    "import cv2\n",
    "import numpy as np\n",
    "\n",
    "img=np.zeros((480,640,3),dtype=np.uint8)\n",
    "\n",
    "COLOR=(0,255,255) # BGR, 노란색\n",
    "THICKNESS=3 # 두께\n",
    "\n",
    "cv2.line(img,(50,100),(400,50),COLOR,THICKNESS,cv2.LINE_8) # (50,100) 부터 (400,50) 까지 (x,y)\n",
    "# 그릴 위치, 시작 점, 끝 점, 색깔, 두께, 선 종류 \n",
    "cv2.line(img,(50,200),(400,150),COLOR,THICKNESS,cv2.LINE_4)\n",
    "cv2.line(img,(50,300),(400,250),COLOR,THICKNESS,cv2.LINE_AA)\n",
    "\n",
    "cv2.imshow('img',img)\n",
    "cv2.waitKey(0)\n",
    "cv2.destroyAllWindows()"
   ]
  },
  {
   "cell_type": "markdown",
   "id": "c8568ce7",
   "metadata": {},
   "source": [
    "## 원"
   ]
  },
  {
   "cell_type": "code",
   "execution_count": 13,
   "id": "9e6dc737",
   "metadata": {},
   "outputs": [],
   "source": [
    "import cv2\n",
    "import numpy as np\n",
    "\n",
    "img=np.zeros((480,640,3),dtype=np.uint8)\n",
    "\n",
    "COLOR=(255,255,0) # BGR, 옥색\n",
    "RADIUS=50\n",
    "THICKNESS=10 # 두께\n",
    "\n",
    "cv2.circle(img,(200,100),RADIUS,COLOR,THICKNESS,cv2.LINE_AA) # 속이 빈 원 \n",
    "# 그릴 위치, 원의 중심점, 반지름, 색깔, 두께, 선 종류 \n",
    "cv2.circle(img,(400,100),RADIUS,COLOR,cv2.FILLED,cv2.LINE_AA) # 속이 빈 원 \n",
    "\n",
    "cv2.imshow('img',img)\n",
    "cv2.waitKey(0)\n",
    "cv2.destroyAllWindows()"
   ]
  },
  {
   "cell_type": "markdown",
   "id": "e0ac3a4e",
   "metadata": {},
   "source": [
    "## 사각형"
   ]
  },
  {
   "cell_type": "code",
   "execution_count": 16,
   "id": "b50eb50e",
   "metadata": {},
   "outputs": [],
   "source": [
    "import cv2\n",
    "import numpy as np\n",
    "\n",
    "img=np.zeros((480,640,3),dtype=np.uint8)\n",
    "\n",
    "COLOR=(0,255,0) # BGR, 초록색\n",
    "THICKNESS=3 # 두께\n",
    "\n",
    "cv2.rectangle(img,(100,100),(200,200),COLOR,THICKNESS)\n",
    "# 그릴 위치, 왼쪽 위 좌표, 오른쪽 아래 좌표, 색깔, 두께 \n",
    "cv2.rectangle(img,(300,100),(400,300),COLOR,cv2.FILLED)\n",
    "\n",
    "cv2.imshow('img',img)\n",
    "cv2.waitKey(0)\n",
    "cv2.destroyAllWindows()"
   ]
  },
  {
   "cell_type": "markdown",
   "id": "4a00d671",
   "metadata": {},
   "source": [
    "## 다각형"
   ]
  },
  {
   "cell_type": "code",
   "execution_count": 26,
   "id": "8667abe7",
   "metadata": {},
   "outputs": [],
   "source": [
    "import cv2\n",
    "import numpy as np\n",
    "\n",
    "img=np.zeros((480,640,3),dtype=np.uint8)\n",
    "\n",
    "COLOR=(0,0,255) # BGR, 초록색\n",
    "THICKNESS=3 # 두께\n",
    "\n",
    "point_1=np.array([[100,100],[200,100],[100,200]])\n",
    "point_2=np.array([[200,200],[300,200],[200,300]])\n",
    "\n",
    "#cv2.polylines(img,[point_1],True,COLOR,THICKNESS,cv2.LINE_AA)\n",
    "#cv2.polylines(img,[point_2],True,COLOR,THICKNESS,cv2.LINE_AA)\n",
    "# 그릴 위치, 그릴 좌표들, 닫힘 여부, 색깔, 두께, 선 종류 \n",
    "cv2.polylines(img,[point_1,point_2],True,COLOR,THICKNESS,cv2.LINE_AA)\n",
    "\n",
    "point_3=np.array([[[100,300],[200,300],[100,400]],[[200,300],[300,300],[300,400]]])\n",
    "cv2.fillPoly(img,point_3,COLOR,cv2.LINE_AA) # 꽉 찬 다각형\n",
    "# 그릴 위치, 좌표들, 색깔, 선 종류\n",
    "\n",
    "\n",
    "cv2.imshow('img',img)\n",
    "cv2.waitKey(0)\n",
    "cv2.destroyAllWindows()"
   ]
  },
  {
   "cell_type": "code",
   "execution_count": null,
   "id": "0fa862ad",
   "metadata": {},
   "outputs": [],
   "source": []
  }
 ],
 "metadata": {
  "kernelspec": {
   "display_name": "Python 3",
   "language": "python",
   "name": "python3"
  },
  "language_info": {
   "codemirror_mode": {
    "name": "ipython",
    "version": 3
   },
   "file_extension": ".py",
   "mimetype": "text/x-python",
   "name": "python",
   "nbconvert_exporter": "python",
   "pygments_lexer": "ipython3",
   "version": "3.8.8"
  }
 },
 "nbformat": 4,
 "nbformat_minor": 5
}
