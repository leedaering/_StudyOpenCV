{
 "cells": [
  {
   "cell_type": "markdown",
   "id": "8cfc6838",
   "metadata": {},
   "source": [
    "## 5. 파일 저장"
   ]
  },
  {
   "cell_type": "markdown",
   "id": "1c2fd5e1",
   "metadata": {},
   "source": [
    "## 이미지 저장"
   ]
  },
  {
   "cell_type": "code",
   "execution_count": 3,
   "id": "e8db72b4",
   "metadata": {},
   "outputs": [
    {
     "name": "stdout",
     "output_type": "stream",
     "text": [
      "True\n"
     ]
    }
   ],
   "source": [
    "import cv2\n",
    "\n",
    "img=cv2.imread('cat_img.jpg',cv2.IMREAD_GRAYSCALE)\n",
    "cv2.imshow('img',img)\n",
    "cv2.waitKey(0)\n",
    "cv2.destroyAllWindows()\n",
    "\n",
    "result=cv2.imwrite('img_save.jpg',img)\n",
    "print(result)"
   ]
  },
  {
   "cell_type": "markdown",
   "id": "f89a9177",
   "metadata": {},
   "source": [
    "## 저장 format(jpg,png)"
   ]
  },
  {
   "cell_type": "code",
   "execution_count": 4,
   "id": "ea22fab2",
   "metadata": {},
   "outputs": [
    {
     "data": {
      "text/plain": [
       "True"
      ]
     },
     "execution_count": 4,
     "metadata": {},
     "output_type": "execute_result"
    }
   ],
   "source": [
    "import cv2\n",
    "\n",
    "img=cv2.imread('cat_img.jpg',cv2.IMREAD_GRAYSCALE)\n",
    "cv2.imwrite('img_save_2.jpg',img)"
   ]
  },
  {
   "cell_type": "markdown",
   "id": "4a719e1d",
   "metadata": {},
   "source": [
    "## 동영상 저장"
   ]
  },
  {
   "cell_type": "code",
   "execution_count": 9,
   "id": "d2f60534",
   "metadata": {},
   "outputs": [],
   "source": [
    "import cv2\n",
    "cap=cv2.VideoCapture('video.mp4')\n",
    "\n",
    "# Codec\n",
    "fourcc=cv2.VideoWriter_fourcc(*'DIVX')\n",
    "\n",
    "width=round(cap.get(cv2.CAP_PROP_FRAME_WIDTH))\n",
    "height=round(cap.get(cv2.CAP_PROP_FRAME_HEIGHT))\n",
    "fps=cap.get(cv2.CAP_PROP_FPS)\n",
    "# fps=cap.get(cv2.CAP_PROP_FPS)*2 # 영상 재생 속도가 2배 \n",
    "\n",
    "out=cv2.VideoWriter('output.avi',fourcc,fps,(width,height))\n",
    "# 저장 파일명, 코덱, FPS, 크기(WIdth,Height)\n",
    "        \n",
    "while cap.isOpened():\n",
    "    ret,frame=cap.read()\n",
    "    \n",
    "    if not ret:\n",
    "        break\n",
    "    \n",
    "    out.write(frame) # 영상 데이터만 저장 (소리 X)\n",
    "    cv2.imshow('video',frame)\n",
    "    if cv2.waitKey(1)==ord('q'):\n",
    "        break\n",
    "        \n",
    "out.release()\n",
    "cap.release()\n",
    "cv2.destroyAllWindows()"
   ]
  },
  {
   "cell_type": "code",
   "execution_count": null,
   "id": "dedd0a64",
   "metadata": {},
   "outputs": [],
   "source": []
  }
 ],
 "metadata": {
  "kernelspec": {
   "display_name": "Python 3",
   "language": "python",
   "name": "python3"
  },
  "language_info": {
   "codemirror_mode": {
    "name": "ipython",
    "version": 3
   },
   "file_extension": ".py",
   "mimetype": "text/x-python",
   "name": "python",
   "nbconvert_exporter": "python",
   "pygments_lexer": "ipython3",
   "version": "3.8.8"
  }
 },
 "nbformat": 4,
 "nbformat_minor": 5
}
